{
  "nbformat": 4,
  "nbformat_minor": 0,
  "metadata": {
    "colab": {
      "name": "vu21csen0101199",
      "provenance": [],
      "authorship_tag": "ABX9TyOzM751jZNHFU2dzib4+RLI",
      "include_colab_link": true
    },
    "kernelspec": {
      "name": "python3",
      "display_name": "Python 3"
    },
    "language_info": {
      "name": "python"
    }
  },
  "cells": [
    {
      "cell_type": "markdown",
      "metadata": {
        "id": "view-in-github",
        "colab_type": "text"
      },
      "source": [
        "<a href=\"https://colab.research.google.com/github/briggs123/project-/blob/main/vu21csen0101199.ipynb\" target=\"_parent\"><img src=\"https://colab.research.google.com/assets/colab-badge.svg\" alt=\"Open In Colab\"/></a>"
      ]
    },
    {
      "cell_type": "markdown",
      "source": [
        "Case Study: Derivation of an equation"
      ],
      "metadata": {
        "id": "0MIIf9G6n6_N"
      }
    },
    {
      "cell_type": "code",
      "source": [
        "from derive_equation import derive_equation\n",
        "\n",
        "derivation_num = 3\n",
        "eq_string = \"12x^4+2x^3+6x^2+x^1+1\"\n",
        "\n",
        "derive_equation(derivation_num, eq_string)"
      ],
      "metadata": {
        "id": "le-2Hao-oCV_"
      },
      "execution_count": null,
      "outputs": []
    },
    {
      "cell_type": "code",
      "source": [
        "from derive_term import derive_term\n",
        "\n",
        "def derive_equation(derivation_num, eq):\n",
        "  pass\n",
        "  a=list()\n",
        "  result=list()\n",
        "  a.extend(eq.split('+'))\n",
        "  for i in a:\n",
        "      for j in range(0,derivation_num):\n",
        "             if str(i).isdigit():\n",
        "                i=0\n",
        "                break\n",
        "             else:\n",
        "                i=derive_term(i)\n",
        "      if i!=0:\n",
        "              result.append(i)\n",
        "  return '+'.join(result)     "
      ],
      "metadata": {
        "id": "HNGoINxkoFR6"
      },
      "execution_count": null,
      "outputs": []
    },
    {
      "cell_type": "code",
      "source": [
        "def derive_term(t):\n",
        "  pass\n",
        "  a=list()\n",
        "  a.extend(t.split('x^'))\n",
        "  if a[0]=='':\n",
        "      a[0]=1\n",
        "  else:\n",
        "      pass\n",
        "  if a[0]=='0':\n",
        "       return 1\n",
        "  a[0]=int(a[0]) \n",
        "  a[1]=int(a[1])\n",
        "  a[0]=str(a[0]*a[1])\n",
        "  a[1]=str(a[1]-1)\n",
        "  if a[1] =='0':\n",
        "      return a[0]\n",
        "  else:\n",
        "        return 'x^'.join(a)"
      ],
      "metadata": {
        "id": "KajkUslDoFu0"
      },
      "execution_count": null,
      "outputs": []
    },
    {
      "cell_type": "code",
      "source": [
        "#print(list_1)\n",
        "def t_e(eq_string):\n",
        "  list_1 = eq_string.split('+')\n",
        "  list_2 = []\n",
        "  list_3 = []\n",
        "  for elements in list_1:\n",
        "    if 'x' in elements:\n",
        "      list_2.append(elements)\n",
        "    else:\n",
        "      list_3.append(elements)\n",
        "  list1 = []\n",
        "  for a in list_2:\n",
        "    list_4 = a.split('x^')\n",
        "    if list_4[0] == '':\n",
        "      list_4[0] = '1'\n",
        "    b = int(list_4[0]) * int(list_4[1])\n",
        "    if int(list_4[1]) > 1:\n",
        "      c = int(list_4[1])-1\n",
        "      c= str(c)\n",
        "      list = [str(b),str(c)]\n",
        "      a = ('x^').join(list)\n",
        "      list1.append(a)\n",
        "      list1.append('+')    \n",
        "    else:\n",
        "      #print(1)\n",
        "      list1.append(list_4[0])\n",
        "  eq_string = ('').join(list1)\n",
        "  print(eq_string)\n",
        "  return eq_string\n",
        "\n",
        "\n",
        "maximum = int(input(\"Enter the number of derivations:\"))\n",
        "eq_string = \"6x^4+4x^2+5x^1+2\"\n",
        "list = eq_string.split('+')\n",
        "\n",
        "list_max = []\n",
        "for i in list:\n",
        "  if 'x^' in i:\n",
        "    list_m = i.split('x^')\n",
        "    list_max.append(int(list_m[1]))\n",
        "print(eq_string)\n",
        "a = t_e(eq_string)\n",
        "for i in range(1,maximum+1):\n",
        "  if maximum > max(list_max):\n",
        "    print(0)\n",
        "    break\n",
        "  else:\n",
        "    eq_string = t_e(eq_string)\n",
        "\n",
        "\n"
      ],
      "metadata": {
        "id": "4eua9k0soGGn"
      },
      "execution_count": null,
      "outputs": []
    },
    {
      "cell_type": "markdown",
      "source": [
        "Case Study - 02: Bar Graph PDF File"
      ],
      "metadata": {
        "id": "exa6BEFjoPPm"
      }
    },
    {
      "cell_type": "code",
      "source": [
        "import screenlib as screen\n",
        "\n",
        "screen.prepare()\n",
        "\n",
        "for i in range(5,16):\n",
        "  screen.putchar(i,5,screen.horizontal)\n",
        "\n",
        "for i in range(6,10):\n",
        "  screen.putchar(10,i,screen.vertical)"
      ],
      "metadata": {
        "id": "OKh7fyKjoGfu"
      },
      "execution_count": null,
      "outputs": []
    },
    {
      "cell_type": "code",
      "source": [
        "import screenlib as screen\n",
        "\n",
        "def draw_horizontal_line(x1, y1, x2):\n",
        "  \"\"\"draw line from (x1, y1) to (x2, y1)\"\"\"\n",
        "  for i in range(x1,x2+1):\n",
        "    screen.putchar(i,y1,screen.horizontal)\n",
        "\n",
        "def draw_vertical_line(x1, y1, y2):\n",
        "  \"\"\"draw line from (x1, y1) to (x1, y2)\"\"\"\n",
        "  for i in range(y1,y2+1):\n",
        "    screen.putchar(x1,i,screen.vertical)\n",
        "\n",
        "\n",
        "if __name__ == '__main__':\n",
        "    \n",
        "  # prepare the environment\n",
        "  screen.prepare()\n",
        "\n",
        "  # draw 3 horizontal lines\n",
        "  draw_horizontal_line(12, 6, 36)\n",
        "  draw_horizontal_line(12, 9, 36)\n",
        "  draw_horizontal_line(12, 12, 36)\n",
        "\n",
        "  # draw 2 vertical lines\n",
        "  draw_vertical_line(18, 4, 14)\n",
        "  draw_vertical_line(30, 4, 14)"
      ],
      "metadata": {
        "id": "nVEzhFBloG0Q"
      },
      "execution_count": null,
      "outputs": []
    },
    {
      "cell_type": "code",
      "source": [
        "import screenlib as screen\n",
        "screen.prepare()\n",
        "\n",
        "def draw_horizontal_line(x1, y1, x2):\n",
        "  \"\"\"draw line from (x1, y1). to (x2, y1)\"\"\"\n",
        "  for i in range(x1,x2+1):\n",
        "    screen.putchar(i,y1,screen.horizontal)\n",
        "\n",
        "def draw_vertical_line(x1, y1, y2):\n",
        "  for i in range(y1,y2+1):\n",
        "    screen.putchar(x1,i,screen.vertical)\n",
        "\n",
        "def draw_box(x1, y1, x2, y2,x3,y3,x4,y4):\n",
        "  \"\"\"draw a box using \n",
        "  (x1, y1) as bottom-left corner and \n",
        "  (x2, y2) as top-right corner\"\"\"\n",
        "\n",
        "  # 1. draw bottom left corner\n",
        "  screen.putchar(x1, y1, screen.corner_top_left)\n",
        "  \n",
        "  # 2. draw top right corner\n",
        "  screen.putchar(x2, y2, screen.corner_top_right)\n",
        "\n",
        "  screen.putchar(x3 , y3, screen.corner_bottom_left)\n",
        "\n",
        "  screen.putchar(x4, y4, screen.corner_bottom_right)\n",
        "\n",
        "  # complete the remaining 6 lines of code bellow\n",
        "\n",
        "  # 3. draw bottom right corner\n",
        "\n",
        "  # 4. draw top left corner\n",
        "\n",
        "  # 5. draw the left side vertical line\n",
        "\n",
        "  # 6. draw the right side vertical line\n",
        "\n",
        "  # 7. draw the bottom side horizontal line\n",
        "\n",
        "  # 8. draw the top side horizontal line\n",
        "  \n",
        "\n",
        "  \n",
        "if __name__ == '__main__':\n",
        "    \n",
        "  # prepare the environment and display it\n",
        "  # 1st bar\n",
        "  draw_vertical_line(4,0,9)\n",
        "  draw_vertical_line(8,0,9)\n",
        "  draw_horizontal_line(5,10,7)\n",
        "  draw_box(4,10,8,10,0,0,0,0)\n",
        "\n",
        "  #2nd bar\n",
        "  draw_vertical_line(42,0,9)\n",
        "  draw_vertical_line(46,0,9)\n",
        "  draw_horizontal_line(43,10,45)\n",
        "  draw_box(42,10,46,10,0,0,0,0)\n",
        "\n",
        "  #1st box\n",
        "  draw_vertical_line(20,12,13)\n",
        "  draw_vertical_line(30,12,13)\n",
        "  draw_horizontal_line(21,14,29)\n",
        "  draw_horizontal_line(21,11,29)\n",
        "  draw_box(20,14,30,14,20,11,30,11)\n",
        "\n",
        "  #2nd box\n",
        "  draw_vertical_line(10,5,19)\n",
        "  draw_vertical_line(40,5,19)\n",
        "  draw_horizontal_line(11,4,39)\n",
        "  draw_horizontal_line(11,20,39)\n",
        "  draw_box(10,20,40,20,10,4,40,4)\n",
        "\n",
        "\n",
        "\n",
        "\n",
        "  # draw the first box\n",
        "\n",
        "\n",
        "\n",
        "  # draw 3 more boxes\n",
        "\n",
        "  screen.show()\n",
        "  # screen.show("
      ],
      "metadata": {
        "id": "xFhZ-8JHoHJe"
      },
      "execution_count": null,
      "outputs": []
    }
  ]
}